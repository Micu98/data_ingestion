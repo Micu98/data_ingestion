{
 "cells": [
  {
   "cell_type": "markdown",
   "id": "unexpected-restoration",
   "metadata": {},
   "source": [
    "# CoinGecko REST API: extracting crypto currency data"
   ]
  },
  {
   "cell_type": "markdown",
   "id": "5d93dfe3",
   "metadata": {},
   "source": [
    "## Libraries and settings"
   ]
  },
  {
   "cell_type": "code",
   "execution_count": 1,
   "id": "e086cd70",
   "metadata": {},
   "outputs": [
    {
     "name": "stdout",
     "output_type": "stream",
     "text": [
      "Current working directory: /workspaces/data_ingestion/03_CoinGecko_WebAPI\n"
     ]
    }
   ],
   "source": [
    "# Libraries\n",
    "import os\n",
    "import locale\n",
    "import pandas as pd\n",
    "locale.setlocale(locale.LC_ALL,\"\")\n",
    "\n",
    "import matplotlib.pyplot as plt\n",
    "\n",
    "# Define settings for graphics\n",
    "# plt.style.use('dark_background')\n",
    "\n",
    "from pycoingecko import CoinGeckoAPI\n",
    "cg = CoinGeckoAPI()\n",
    "\n",
    "# Settings\n",
    "import warnings\n",
    "warnings.filterwarnings(\"ignore\")\n",
    "\n",
    "# Current working directory\n",
    "print(f'Current working directory: {os.getcwd()}')"
   ]
  },
  {
   "cell_type": "markdown",
   "id": "f52ba0c0",
   "metadata": {},
   "source": [
    "## Get data"
   ]
  },
  {
   "cell_type": "code",
   "execution_count": 3,
   "id": "administrative-robin",
   "metadata": {},
   "outputs": [
    {
     "data": {
      "text/plain": [
       "{'bitcoin': {'chf': 59723}}"
      ]
     },
     "execution_count": 3,
     "metadata": {},
     "output_type": "execute_result"
    }
   ],
   "source": [
    "# Simple price endpoint with the required parameters\n",
    "cg.get_price(ids='bitcoin', vs_currencies='chf')"
   ]
  },
  {
   "cell_type": "code",
   "execution_count": 4,
   "id": "above-train",
   "metadata": {},
   "outputs": [
    {
     "data": {
      "text/plain": [
       "{'bitcoin': {'usd': 68980},\n",
       " 'dogecoin': {'usd': 0.14747},\n",
       " 'ethereum': {'usd': 2736.35},\n",
       " 'near': {'usd': 5.0}}"
      ]
     },
     "execution_count": 4,
     "metadata": {},
     "output_type": "execute_result"
    }
   ],
   "source": [
    "# Multiple arguments (USD)\n",
    "cg.get_price(ids=['bitcoin', 'near', 'ethereum', 'dogecoin'], vs_currencies='usd')"
   ]
  },
  {
   "cell_type": "code",
   "execution_count": 5,
   "id": "southeast-checklist",
   "metadata": {},
   "outputs": [
    {
     "data": {
      "text/plain": [
       "{'bitcoin': {'usd': 68940, 'eur': 63466},\n",
       " 'dogecoin': {'usd': 0.147264, 'eur': 0.135572},\n",
       " 'ethereum': {'usd': 2734.22, 'eur': 2517.15},\n",
       " 'near': {'usd': 5.0, 'eur': 4.6}}"
      ]
     },
     "execution_count": 5,
     "metadata": {},
     "output_type": "execute_result"
    }
   ],
   "source": [
    "# Multiple arguments (USD & EUR)\n",
    "cg.get_price(ids=['bitcoin', 'near', 'ethereum, dogecoin'], vs_currencies=['usd', 'eur'])"
   ]
  },
  {
   "cell_type": "code",
   "execution_count": 6,
   "id": "single-sensitivity",
   "metadata": {},
   "outputs": [
    {
     "data": {
      "text/plain": [
       "{'bitcoin': {'usd': 68910,\n",
       "  'usd_market_cap': 1364206941774.843,\n",
       "  'usd_24h_vol': 25465383939.71772,\n",
       "  'usd_24h_change': 0.9597623080849981,\n",
       "  'last_updated_at': 1729487614},\n",
       " 'dogecoin': {'usd': 0.147088,\n",
       "  'usd_market_cap': 21690280680.428547,\n",
       "  'usd_24h_vol': 1779915877.6942644,\n",
       "  'usd_24h_change': 3.7940839596534213,\n",
       "  'last_updated_at': 1729487618},\n",
       " 'ethereum': {'usd': 2733.04,\n",
       "  'usd_market_cap': 329928362261.4775,\n",
       "  'usd_24h_vol': 16872886386.019173,\n",
       "  'usd_24h_change': 3.355676740099308,\n",
       "  'last_updated_at': 1729487624},\n",
       " 'near': {'usd': 5.0,\n",
       "  'usd_market_cap': 6084114394.687967,\n",
       "  'usd_24h_vol': 286187950.7586116,\n",
       "  'usd_24h_change': 5.593638947895658,\n",
       "  'last_updated_at': 1729487622}}"
      ]
     },
     "execution_count": 6,
     "metadata": {},
     "output_type": "execute_result"
    }
   ],
   "source": [
    "# Pass optional parameters as defined in the API doc (https://www.coingecko.com/api/docs/v3)\n",
    "data = cg.get_price( ids='bitcoin, near, ethereum, dogecoin', \n",
    "                     vs_currencies='usd', \n",
    "                     include_market_cap='true', \n",
    "                     include_24hr_vol='true', \n",
    "                     include_24hr_change='true', \n",
    "                     include_last_updated_at='true')\n",
    "data"
   ]
  },
  {
   "cell_type": "code",
   "execution_count": 7,
   "id": "negative-allah",
   "metadata": {},
   "outputs": [
    {
     "name": "stdout",
     "output_type": "stream",
     "text": [
      "['bitcoin', 'dogecoin', 'ethereum', 'near']\n",
      "----------------\n",
      "bitcoin\n",
      "68910\n"
     ]
    }
   ],
   "source": [
    "# Extract single values\n",
    "names = list(data.keys())\n",
    "print(names)\n",
    "print(\"----------------\")\n",
    "\n",
    "# Price of the first element in list\n",
    "print(names[0])\n",
    "print(data[names[0]][\"usd\"])"
   ]
  },
  {
   "cell_type": "markdown",
   "id": "5cb610cf",
   "metadata": {},
   "source": [
    "## Extract and plot data"
   ]
  },
  {
   "cell_type": "code",
   "execution_count": 10,
   "id": "surgical-germany",
   "metadata": {},
   "outputs": [
    {
     "name": "stdout",
     "output_type": "stream",
     "text": [
      "       Name     Value\n",
      "0   bitcoin  68910.00\n",
      "2  ethereum   2733.04\n",
      "3      near      5.00\n",
      "1  dogecoin      0.15\n"
     ]
    }
   ],
   "source": [
    "# Keys from dictionary\n",
    "names = list(data.keys())\n",
    "\n",
    "# Get values from dictionary and format to 2 decimal places\n",
    "values = []\n",
    "for i in range(len(names)):\n",
    "    vals = data[names[i]][\"usd\"]\n",
    "    formatted_val = f'{vals:.2f}'\n",
    "    values.append(formatted_val)\n",
    "\n",
    "# Create DataFrame\n",
    "df = pd.DataFrame({\n",
    "    'Name': names,\n",
    "    'Value': values})\n",
    "\n",
    "# Convert 'Value' column to numeric\n",
    "df['Value'] = pd.to_numeric(df['Value'])\n",
    "\n",
    "# Sort DataFrame by 'Value' in descending order\n",
    "df = df.sort_values(by='Value', ascending=False)\n",
    "\n",
    "print(df)"
   ]
  },
  {
   "cell_type": "code",
   "execution_count": 9,
   "id": "juvenile-huntington",
   "metadata": {},
   "outputs": [
    {
     "data": {
      "image/png": "[encoded data removed]",
      "text/plain": [
       "<Figure size 600x400 with 1 Axes>"
      ]
     },
     "metadata": {},
     "output_type": "display_data"
    }
   ],
   "source": [
    "# Create bar chart\n",
    "plt.figure(figsize=(6, 4))\n",
    "bars = plt.bar(df['Name'], df['Value'], color='greenyellow')\n",
    "plt.xlabel('Name')\n",
    "plt.ylabel('Value')\n",
    "plt.title('Bar Chart of Values')\n",
    "plt.xticks(rotation=45, ha='right')\n",
    "\n",
    "# Add values on top of bars\n",
    "for bar in bars:\n",
    "    yval = bar.get_height()\n",
    "    plt.text(bar.get_x() + bar.get_width()/2, \n",
    "             yval + 0.05, f'{yval:.2f}', \n",
    "             ha='center', \n",
    "             va='bottom')\n",
    "plt.show()"
   ]
  },
  {
   "attachments": {},
   "cell_type": "markdown",
   "id": "cd71fca9",
   "metadata": {},
   "source": [
    "### Jupyter notebook --footer info-- (please always provide this at the end of each notebook)"
   ]
  },
  {
   "cell_type": "code",
   "execution_count": null,
   "id": "23004277",
   "metadata": {},
   "outputs": [],
   "source": [
    "import os\n",
    "import platform\n",
    "import socket\n",
    "from platform import python_version\n",
    "from datetime import datetime\n",
    "\n",
    "print('-----------------------------------')\n",
    "print(os.name.upper())\n",
    "print(platform.system(), '|', platform.release())\n",
    "print('Datetime:', datetime.now().strftime(\"%Y-%m-%d %H:%M:%S\"))\n",
    "print('Python Version:', python_version())\n",
    "print('-----------------------------------')"
   ]
  }
 ],
 "metadata": {
  "kernelspec": {
   "display_name": "Python 3",
   "language": "python",
   "name": "python3"
  },
  "language_info": {
   "codemirror_mode": {
    "name": "ipython",
    "version": 3
   },
   "file_extension": ".py",
   "mimetype": "text/x-python",
   "name": "python",
   "nbconvert_exporter": "python",
   "pygments_lexer": "ipython3",
   "version": "3.11.10"
  },
  "toc": {
   "base_numbering": 1,
   "nav_menu": {},
   "number_sections": true,
   "sideBar": true,
   "skip_h1_title": false,
   "title_cell": "Table of Contents",
   "title_sidebar": "Contents",
   "toc_cell": false,
   "toc_position": {},
   "toc_section_display": true,
   "toc_window_display": false
  }
 },
 "nbformat": 4,
 "nbformat_minor": 5
}
